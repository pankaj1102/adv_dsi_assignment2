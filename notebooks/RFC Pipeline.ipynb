{
 "cells": [
  {
   "cell_type": "markdown",
   "metadata": {},
   "source": [
    "# This notebook consists of steps to use RFC model to create a pipeline"
   ]
  },
  {
   "cell_type": "code",
   "execution_count": 78,
   "metadata": {},
   "outputs": [
    {
     "name": "stdout",
     "output_type": "stream",
     "text": [
      "The autoreload extension is already loaded. To reload it, use:\n",
      "  %reload_ext autoreload\n"
     ]
    }
   ],
   "source": [
    "from sklearn.pipeline import Pipeline\n",
    "\n",
    "cat_cols = ['brewery_name']\n",
    "num_cols = ['review_aroma', 'review_appearance', 'review_palate', 'review_taste']\n",
    "target_col = ['beer_style']\n",
    "\n",
    "%load_ext autoreload\n",
    "%autoreload 2"
   ]
  },
  {
   "cell_type": "code",
   "execution_count": 79,
   "metadata": {},
   "outputs": [],
   "source": [
    "from sklearn.preprocessing import StandardScaler\n",
    "\n",
    "num_transformer = Pipeline (\n",
    "    steps =[\n",
    "        ('ScaleNumVals', StandardScaler())\n",
    "    ]\n",
    ")"
   ]
  },
  {
   "cell_type": "markdown",
   "metadata": {},
   "source": [
    "from app.feature_encode import BeerStyleCode\n",
    "\n",
    "beer_style_transformer = Pipeline (\n",
    "    steps = [\n",
    "        ('EncodeBeerStyle', BeerStyleCode())\n",
    "    ]\n",
    ")"
   ]
  },
  {
   "cell_type": "code",
   "execution_count": 81,
   "metadata": {},
   "outputs": [],
   "source": [
    "from feature_encode import BreweryNameEncodedVal\n",
    "\n",
    "brew_name_transformer = Pipeline (\n",
    "    steps = [\n",
    "        ('EncodeBreweryName', BreweryNameEncodedVal())\n",
    "    ]\n",
    ")"
   ]
  },
  {
   "cell_type": "code",
   "execution_count": 82,
   "metadata": {},
   "outputs": [],
   "source": [
    "from sklearn.compose import ColumnTransformer"
   ]
  },
  {
   "cell_type": "code",
   "execution_count": 83,
   "metadata": {},
   "outputs": [],
   "source": [
    "preprocessor = ColumnTransformer(\n",
    "    transformers=[\n",
    "        ('numColTranformer', num_transformer, num_cols),\n",
    "        ('catColTransformer', brew_name_transformer, cat_cols)\n",
    "    ]\n",
    ")"
   ]
  },
  {
   "cell_type": "code",
   "execution_count": 84,
   "metadata": {},
   "outputs": [],
   "source": [
    "from sklearn.ensemble import RandomForestClassifier\n",
    "\n",
    "rfc_pipeline = Pipeline (\n",
    "    steps = [\n",
    "        ('PreProcess', preprocessor),\n",
    "        ('RFCModel', RandomForestClassifier(n_estimators=104, max_samples=300))\n",
    "    ]\n",
    ")"
   ]
  },
  {
   "cell_type": "code",
   "execution_count": 85,
   "metadata": {},
   "outputs": [
    {
     "data": {
      "text/plain": [
       "<bound method DataFrame.reindex of                         brewery_name  review_aroma  review_appearance  \\\n",
       "0                    Vecchio Birraio           2.0                2.5   \n",
       "1                    Vecchio Birraio           2.5                3.0   \n",
       "2                    Vecchio Birraio           2.5                3.0   \n",
       "3                    Vecchio Birraio           3.0                3.5   \n",
       "4            Caldera Brewing Company           4.5                4.0   \n",
       "...                              ...           ...                ...   \n",
       "1586587  The Defiant Brewing Company           4.0                3.5   \n",
       "1586588  The Defiant Brewing Company           5.0                2.5   \n",
       "1586589  The Defiant Brewing Company           3.5                3.0   \n",
       "1586590  The Defiant Brewing Company           4.5                4.5   \n",
       "1586591  The Defiant Brewing Company           4.5                4.5   \n",
       "\n",
       "         review_palate  review_taste                      beer_style  \n",
       "0                  1.5           1.5                      Hefeweizen  \n",
       "1                  3.0           3.0              English Strong Ale  \n",
       "2                  3.0           3.0          Foreign / Export Stout  \n",
       "3                  2.5           3.0                 German Pilsener  \n",
       "4                  4.0           4.5  American Double / Imperial IPA  \n",
       "...                ...           ...                             ...  \n",
       "1586587            4.0           4.0                     Pumpkin Ale  \n",
       "1586588            2.0           4.0                     Pumpkin Ale  \n",
       "1586589            3.5           4.0                     Pumpkin Ale  \n",
       "1586590            4.5           4.5                     Pumpkin Ale  \n",
       "1586591            4.5           4.5                     Pumpkin Ale  \n",
       "\n",
       "[1586592 rows x 6 columns]>"
      ]
     },
     "execution_count": 85,
     "metadata": {},
     "output_type": "execute_result"
    }
   ],
   "source": [
    "#Load the unencoded file and split this into Test, Train and validate sets\n",
    "import pandas as pd\n",
    "import numpy as np\n",
    "\n",
    "unencoded_datafile = \"../data/interim/source_unencoded.csv\"\n",
    "df_raw = pd.read_csv(unencoded_datafile)\n",
    "df_raw.drop(labels=[\"Unnamed: 0\"], axis=1, inplace=True) #Drop the extra column that came across from the CSV file\n",
    "df_raw.reindex"
   ]
  },
  {
   "cell_type": "code",
   "execution_count": 86,
   "metadata": {},
   "outputs": [],
   "source": [
    "from feature_encode import BeerStyleCode\n",
    "\n",
    "bs = BeerStyleCode()\n",
    "df_raw[\"beer_style\"]=bs.transform(df_raw[\"beer_style\"])"
   ]
  },
  {
   "cell_type": "code",
   "execution_count": 87,
   "metadata": {},
   "outputs": [],
   "source": [
    "from src.data.sets import split_sets_random, save_sets\n",
    "X_train, Y_train, X_valid, Y_valid, X_test, Y_test = split_sets_random(df_raw, target_col=\"beer_style\")"
   ]
  },
  {
   "cell_type": "code",
   "execution_count": 88,
   "metadata": {},
   "outputs": [],
   "source": [
    "# I need to train a model based on a pipeline - so I need X and Y values\n",
    "# Y values do not have to be encoded once the model is functional, as they will only be decoded\n",
    "# so to train the model, I'll provided X values that require encoding and Y values that are already encoded\n",
    "# I will dump the model once trained. and figure out Y value decoding later on"
   ]
  },
  {
   "cell_type": "code",
   "execution_count": 89,
   "metadata": {},
   "outputs": [],
   "source": [
    "pipeline_model = rfc_pipeline.fit(X_train, Y_train)"
   ]
  },
  {
   "cell_type": "code",
   "execution_count": 90,
   "metadata": {},
   "outputs": [],
   "source": [
    "Y_test_preds = pipeline_model.predict(X_test)"
   ]
  },
  {
   "cell_type": "code",
   "execution_count": 91,
   "metadata": {},
   "outputs": [
    {
     "data": {
      "text/plain": [
       "['../models/pipeline_model_rfc.joblib']"
      ]
     },
     "execution_count": 91,
     "metadata": {},
     "output_type": "execute_result"
    }
   ],
   "source": [
    "import joblib\n",
    "\n",
    "joblib.dump(pipeline_model, \"../models/pipeline_model_rfc.joblib\")"
   ]
  },
  {
   "cell_type": "code",
   "execution_count": null,
   "metadata": {},
   "outputs": [],
   "source": []
  }
 ],
 "metadata": {
  "kernelspec": {
   "display_name": "Python 3",
   "language": "python",
   "name": "python3"
  },
  "language_info": {
   "codemirror_mode": {
    "name": "ipython",
    "version": 3
   },
   "file_extension": ".py",
   "mimetype": "text/x-python",
   "name": "python",
   "nbconvert_exporter": "python",
   "pygments_lexer": "ipython3",
   "version": "3.7.6"
  }
 },
 "nbformat": 4,
 "nbformat_minor": 4
}
